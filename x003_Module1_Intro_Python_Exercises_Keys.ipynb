{
 "cells": [
  {
   "cell_type": "markdown",
   "id": "8044ec76-8449-403c-b567-3bab50970406",
   "metadata": {
    "tags": []
   },
   "source": [
    "# **Module 1: Introduction to Spatial Data Analysis in Python**"
   ]
  },
  {
   "cell_type": "code",
   "execution_count": null,
   "id": "127d715b-729d-4820-8105-3c26fb3a749d",
   "metadata": {},
   "outputs": [],
   "source": [
    "import geopandas as gpd\n",
    "import pandas as pd\n",
    "from matplotlib import pyplot as plt\n",
    "import seaborn as sns\n",
    "import rasterio\n",
    "import numpy as np\n",
    "import matplotlib.patches as mpatches\n",
    "from matplotlib.colors import ListedColormap\n",
    "import matplotlib.colors as colors\n",
    "from rasterio.crs import CRS\n",
    "from rasterio.plot import plotting_extent\n",
    "sns.set_style(\"whitegrid\")"
   ]
  },
  {
   "cell_type": "markdown",
   "id": "edd3e197-b37e-44fa-a9c3-dd06c40c59c2",
   "metadata": {
    "tags": []
   },
   "source": [
    "## **Exercises**\n",
    "\n",
    "### Data\n",
    "-  `ea_geo.csv` - Malawi Living Standard Measurement Survey Integrated Household Sample (LSMS-IHS) point data are available from https://microdata.worldbank.org/index.php/catalog/3818  \n",
    "- `mwi_lsms.shp` - Malawi subnational divisions can be downloaded from https://data.humdata.org/dataset/malawi-administrative-level-0-3-boundaries\n",
    "- `MWI_msk_alt.vrt` - Malawi Digital Elevation Model (DEM) is derived from NASA's Shuttle Radar Topography Mission data product. \n",
    "\n",
    "For today's workshop, the data has been downloaded, cleaned, transformed, and saved to the directory `./data-module-1/`."
   ]
  },
  {
   "cell_type": "markdown",
   "id": "4a5fbc64-af7c-4c11-afbc-0a9a494bcb9d",
   "metadata": {
    "tags": []
   },
   "source": [
    "**Question 1. Read and display the head of the `ea_geo.csv` file stored under `./data-module-1/`.**"
   ]
  },
  {
   "cell_type": "code",
   "execution_count": null,
   "id": "6b992a15-d7a0-4b17-a558-b833da2f6b41",
   "metadata": {
    "tags": []
   },
   "outputs": [],
   "source": [
    "ea_geo_df = pd.read_csv(\"./data-module-1/ea_geo.csv\")\n",
    "ea_geo_df.head()"
   ]
  },
  {
   "cell_type": "markdown",
   "id": "0f257404-0c34-4ba1-a5d4-59065807114b",
   "metadata": {
    "tags": []
   },
   "source": [
    "**Question 2. Which columns store the geographic coordinates? Transform `DataFrame` into `GeoDataFrame` by using these columns. Display the head of the `GeoDataFrame`.**"
   ]
  },
  {
   "cell_type": "code",
   "execution_count": null,
   "id": "4deca27d-8420-4ec1-a8ab-bf7e1750fd47",
   "metadata": {},
   "outputs": [],
   "source": [
    "ea_geo_gdf = gpd.GeoDataFrame(ea_geo_df, geometry=gpd.points_from_xy(ea_geo_df.ea_lon_mod, ea_geo_df.ea_lat_mod))\n",
    "ea_geo_gdf.set_crs(\"epsg:4326\", inplace=True)\n",
    "ea_geo_gdf.drop(columns=[\"ea_lon_mod\", \"ea_lat_mod\"], inplace=True)\n",
    "ea_geo_gdf.head()"
   ]
  },
  {
   "cell_type": "markdown",
   "id": "80d8bef4-fb0d-4312-90f3-7a26ff2f93d4",
   "metadata": {},
   "source": [
    "**Question 3. Create an interactive map to ensure that the data have been properly geocoded.**"
   ]
  },
  {
   "cell_type": "code",
   "execution_count": null,
   "id": "6b26dc3e-01dc-4389-bcc1-8889e4680bf1",
   "metadata": {},
   "outputs": [],
   "source": [
    "ea_geo_gdf.explore()"
   ]
  },
  {
   "cell_type": "markdown",
   "id": "8eba85e0-5e98-4e16-bfe6-ecf375017c21",
   "metadata": {},
   "source": [
    "**Question 4. Create a static map with 2 subplots: based on columns `dist_road` and `dist_border`. Display values as continuous.**"
   ]
  },
  {
   "cell_type": "code",
   "execution_count": null,
   "id": "64d72cc5-ed40-4a90-8025-ae04efb0d7ec",
   "metadata": {},
   "outputs": [],
   "source": [
    "fig, axs = plt.subplots(1,2, figsize=(10,8))\n",
    "ea_geo_gdf.plot(ax=axs[0], column=\"dist_road\", legend=True, cmap=\"Spectral\")\n",
    "axs[0].set_title(\"Malawi LSMS distance to road\", weight=\"bold\")\n",
    "ea_geo_gdf.plot(ax=axs[1], column=\"dist_border\", legend=True, cmap=\"plasma\")\n",
    "axs[1].set_title(\"Malawi LSMS distance to border\", weight=\"bold\")"
   ]
  },
  {
   "cell_type": "markdown",
   "id": "903b99d4-dd2d-4af4-b588-025de4a08c91",
   "metadata": {},
   "source": [
    "**Question 5. Read the `mwi_lsms.shp` shapefile located in the `./data-module-1/` folder. Display the first 2 records of `GeoDataFrame`.**"
   ]
  },
  {
   "cell_type": "code",
   "execution_count": null,
   "id": "cf4d36b7-868b-45b2-93d9-a7d9f4f5bd22",
   "metadata": {},
   "outputs": [],
   "source": [
    "mwi_lsms_gdf = gpd.read_file(\"./data-module-1/mwi_lsms.shp\")\n",
    "mwi_lsms_gdf.head(2)"
   ]
  },
  {
   "cell_type": "markdown",
   "id": "40fe6691-e4c9-4fd1-b203-e8fc10fd94df",
   "metadata": {},
   "source": [
    "**Question 6. Explore the characteristics of the `GeoDataFrame`.**  \n",
    "- How many columns does it have?\n",
    "- How many rows does it have?\n",
    "- Calculate summary statistics of the numerical fields."
   ]
  },
  {
   "cell_type": "code",
   "execution_count": null,
   "id": "0e7b45a6-8ed5-468e-96e7-caccc5411987",
   "metadata": {},
   "outputs": [],
   "source": [
    "print (\"Number of columns:\", len(mwi_lsms_gdf.columns))\n",
    "print (\"Number of rows:\", len(mwi_lsms_gdf))\n",
    "print (\"Summarize numerical fields\")\n",
    "mwi_lsms_gdf.describe()"
   ]
  },
  {
   "cell_type": "markdown",
   "id": "b36b748a-7326-42f6-8e19-869d9d1841c2",
   "metadata": {},
   "source": [
    "**Question 7. Create an interactive map of the `GeoDataFrame`.**"
   ]
  },
  {
   "cell_type": "code",
   "execution_count": null,
   "id": "d67acafa-b6dd-43bc-aa4c-4c83717d46b8",
   "metadata": {},
   "outputs": [],
   "source": [
    "mwi_lsms_gdf.explore()"
   ]
  },
  {
   "cell_type": "markdown",
   "id": "9f1600c1-dc37-4688-9b27-56cba4e022fb",
   "metadata": {},
   "source": [
    "**Question 8. Create a static map with 2 subplots: based on columns `croplnd` and `poverty`. Display values as continuous.**"
   ]
  },
  {
   "cell_type": "code",
   "execution_count": null,
   "id": "aa7c7029-b423-4fb8-b11c-9f8e02eda2ac",
   "metadata": {},
   "outputs": [],
   "source": [
    "fig, axs = plt.subplots(1,2, figsize=(10,8))\n",
    "mwi_lsms_gdf.plot(ax=axs[0], column=\"croplnd\", legend=True, cmap=\"Spectral\")\n",
    "axs[0].set_title(\"Malawi LSMS croplnd\", weight=\"bold\")\n",
    "mwi_lsms_gdf.plot(ax=axs[1], column=\"poverty\", legend=True, cmap=\"plasma\")\n",
    "axs[1].set_title(\"Malawi LSMS poverty\", weight=\"bold\")"
   ]
  },
  {
   "cell_type": "markdown",
   "id": "ca3d79f1-186b-47cb-ab96-e89fa4d7d20d",
   "metadata": {},
   "source": [
    "**Question 9. Read the Malawi DEM raster file stored as `MWI_msk_alt.vrt`. Convert the data type to float and reset `NoData` values to `np.nan`.**"
   ]
  },
  {
   "cell_type": "code",
   "execution_count": null,
   "id": "29291c81-9e8a-4e76-9b0d-5aa6003c664b",
   "metadata": {},
   "outputs": [],
   "source": [
    "mwi_dem =  rasterio.open(\"./data-module-1/MWI_msk_alt.vrt\")\n",
    "mwi_dem_array = mwi_dem.read(1)\n",
    "mwi_dem_array = mwi_dem_array.astype(float)\n",
    "mwi_dem_array[mwi_dem_array==mwi_dem.nodata] = np.nan"
   ]
  },
  {
   "cell_type": "markdown",
   "id": "7ea49ff4-4141-44b9-afcf-292a0392e731",
   "metadata": {},
   "source": [
    "**Question 10. Explore the characteristics of your raster.**\n",
    "- How many rows and columns does it have?\n",
    "- What is the spatial extent of the dataset?\n",
    "- What is the coordinate reference system?\n",
    "- Plot a histogram to display the distribution of values."
   ]
  },
  {
   "cell_type": "code",
   "execution_count": null,
   "id": "58964e3d-fe12-4946-b49c-87c5ba3062a6",
   "metadata": {},
   "outputs": [],
   "source": [
    "print (\"Number of rows is equal to {}\".format(mwi_dem.height))\n",
    "print (\"Number of columns is equal to {}\".format(mwi_dem.width))\n",
    "print (\"Extent of the dataset: {}\".format(mwi_dem.bounds))\n",
    "print (\"Coordinate Reference System: {}\".format(mwi_dem.crs))\n",
    "plt.hist(mwi_dem_array.flatten(), facecolor=\"grey\", alpha=0.75)"
   ]
  },
  {
   "cell_type": "markdown",
   "id": "0b6f6ee5-7e54-4df9-b9fd-d2c8ca90b93c",
   "metadata": {},
   "source": [
    "**Question 11. Plot Malawi DEM array. Use `terrain` as a `cmap` option.**"
   ]
  },
  {
   "cell_type": "code",
   "execution_count": null,
   "id": "90e46240-e429-43c1-a60f-ea7551f8798b",
   "metadata": {},
   "outputs": [],
   "source": [
    "plt.figure(figsize = (10,8))\n",
    "plt.imshow(mwi_dem_array, interpolation=\"none\", cmap=\"terrain\")\n",
    "plt.title(\"Malawi DEM, m\", weight=\"bold\")\n",
    "plt.colorbar()"
   ]
  },
  {
   "cell_type": "markdown",
   "id": "0898af71-faff-4860-b632-3f4d587b8438",
   "metadata": {},
   "source": [
    "**Question 12. Display multiple features on the same map:**\n",
    "- add Malawi DEM (use the coorditate system from this dataset as a reference for others), use `terrain` as `cmap` option;\n",
    "- add Malawi district boundaries (polygon), display only the edges with `grey` color;\n",
    "- add Malawi LSMS points, display `dist_agmrkt` column, include the legend, and keep the default `cmap`."
   ]
  },
  {
   "cell_type": "code",
   "execution_count": null,
   "id": "1fe8ccb4-5939-4ba2-bdd1-423bb6cbba7d",
   "metadata": {},
   "outputs": [],
   "source": [
    "fig, ax = plt.subplots(figsize = (10,8))\n",
    "plot_extent = plotting_extent(mwi_dem_array, mwi_dem.transform)\n",
    "ax.imshow(mwi_dem_array, interpolation=\"none\", cmap=\"terrain\", extent=plot_extent)\n",
    "mwi_lsms_gdf.to_crs(mwi_dem.crs).plot(ax=ax, facecolor=\"none\", edgecolor=\"grey\")\n",
    "ea_geo_gdf.to_crs(mwi_dem.crs).plot(ax=ax, column=\"dist_agmrkt\", legend=True)\n",
    "plt.title(\"Malawi DEM and LSMS data (dist_agmrkt)\", weight=\"bold\")\n",
    "plt.show()"
   ]
  },
  {
   "cell_type": "code",
   "execution_count": null,
   "id": "5f1feff4-b015-48da-bee5-426709305532",
   "metadata": {},
   "outputs": [],
   "source": []
  }
 ],
 "metadata": {
  "kernelspec": {
   "display_name": "Python 3 (ipykernel)",
   "language": "python",
   "name": "python3"
  },
  "language_info": {
   "codemirror_mode": {
    "name": "ipython",
    "version": 3
   },
   "file_extension": ".py",
   "mimetype": "text/x-python",
   "name": "python",
   "nbconvert_exporter": "python",
   "pygments_lexer": "ipython3",
   "version": "3.9.12"
  }
 },
 "nbformat": 4,
 "nbformat_minor": 5
}
