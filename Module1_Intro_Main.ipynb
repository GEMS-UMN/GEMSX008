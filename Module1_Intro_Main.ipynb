{
 "cells": [
  {
   "cell_type": "markdown",
   "id": "8044ec76-8449-403c-b567-3bab50970406",
   "metadata": {
    "tags": []
   },
   "source": [
    "# **Module 1: Introduction to Spatial Data Analysis in Python**"
   ]
  },
  {
   "cell_type": "markdown",
   "id": "4c7a510d-120f-4236-8413-1b27d128db29",
   "metadata": {},
   "source": [
    "#### Data\n",
    "In this workshop, we will use 3 datasets from the Minnesota Geospatial Commons, which have been downloaded, cleaned, transformed and saved to the directory `./data-module-1/`.\n",
    "- `soil_samp_2021-10-05.csv` - Minnesota Six-Inch Soil Temperature: https://gisdata.mn.gov/dataset/geos-soil-temp-network\n",
    "- `gw_provinces_extra.shp` - Groundwater Provinces of Minnesota 2021: https://gisdata.mn.gov/dataset/geos-groundwater-provinces-mn\n",
    "- `cdl3_3km.tif` - Cropland Data Layer 2020, Minnesota: https://gisdata.mn.gov/dataset/agri-cropland-data-layer-2020      \n",
    "\n",
    "#### Software\n",
    "To execute this code you will need a Python environment with the packages imported below (all required packages are already available on GEMS Informatics Platform)."
   ]
  },
  {
   "cell_type": "code",
   "execution_count": null,
   "id": "686aca68-10cc-4a57-a1ab-51efc74d2ed1",
   "metadata": {},
   "outputs": [],
   "source": [
    "# general use packages\n",
    "import numpy as np\n",
    "import pandas as pd\n",
    "from matplotlib import pyplot as plt\n",
    "import matplotlib.patches as mpatches\n",
    "from matplotlib.colors import from_levels_and_colors\n",
    "\n",
    "# geospatial packages\n",
    "import geopandas as gpd\n",
    "import rasterio\n",
    "from rasterio.plot import plotting_extent"
   ]
  },
  {
   "cell_type": "markdown",
   "id": "c78a8499-e1d1-4024-98bd-d6a7b8e8e21e",
   "metadata": {
    "tags": []
   },
   "source": [
    "### **Working with Point Data in Python**\n",
    "\n",
    "#### Importing XY data\n",
    "\n",
    "Our first step is to read in the `.csv` file that contains our attribute data with geographic coordinates. For this example, we will be using the *Minnesota Six-Inch Soil Temperature* data. \n",
    "\n",
    "> The Minnesota Department of Agriculture (MDA) Six-Inch Soil Temperature Network provides real time soil temperatures at a six-inch depth across Minnesota. The network was established to assist in following best management practices for fall nitrogen fertilizer application.\n",
    "\n",
    "For today's workshop, temperature on October 5, 2021 has been added for illustrative purposes. We read in `.csv` data using the Python `pandas` package, which enables operations on tabular data (data frames)."
   ]
  },
  {
   "cell_type": "code",
   "execution_count": null,
   "id": "0fed8e8e-d1bf-4355-bf0b-d6ff24450d10",
   "metadata": {},
   "outputs": [],
   "source": [
    "soil_samp_df = pd.read_csv(\"./data-module-1/soil_samp_2021-10-05.csv\")\n",
    "soil_samp_df"
   ]
  },
  {
   "cell_type": "markdown",
   "id": "90b509d1-d3d5-45ed-ac69-b6b87eb82c7f",
   "metadata": {},
   "source": [
    "#### Convert `DataFrame` to `GeoDataFrame`\n",
    "In this step we use the spatial information from `x` and `y` columns to convert the initial table `DataFrame` into a `GeoDataFrame` to enable spatial operations. Because coordinates are supplied in degrees of latitude and longitude, we need to set World Geodetic System 1984 (`epsg:4326`) as a coordinate system."
   ]
  },
  {
   "cell_type": "code",
   "execution_count": null,
   "id": "da157877-f406-49b4-9f55-a27610af63fa",
   "metadata": {},
   "outputs": [],
   "source": [
    "soil_samp_gdf = gpd.GeoDataFrame(\n",
    "    soil_samp_df,\n",
    "    geometry=gpd.points_from_xy(soil_samp_df.x, soil_samp_df.y),\n",
    "    crs=\"epsg:4326\")\n",
    "soil_samp_gdf"
   ]
  },
  {
   "cell_type": "markdown",
   "id": "08e53a6b-48be-440c-afa0-9b9e4d2bfc71",
   "metadata": {},
   "source": [
    "#### Summarize Point Data"
   ]
  },
  {
   "cell_type": "code",
   "execution_count": null,
   "id": "0e978d67-7766-4347-bc74-ebd9f8a7d864",
   "metadata": {},
   "outputs": [],
   "source": [
    "soil_samp_df.head()"
   ]
  },
  {
   "cell_type": "code",
   "execution_count": null,
   "id": "06b6771a-c0fb-4b7a-ab36-a2e98a2b7cf9",
   "metadata": {},
   "outputs": [],
   "source": [
    "print (\"Extent of the data is defined by the following bounding box: \")\n",
    "soil_samp_gdf.total_bounds"
   ]
  },
  {
   "cell_type": "code",
   "execution_count": null,
   "id": "2a072f50-0437-457e-b4d1-1fd4526cb9c2",
   "metadata": {},
   "outputs": [],
   "source": [
    "print (\"The following contains the information on the Coordinate Reference System: \")\n",
    "soil_samp_gdf.crs"
   ]
  },
  {
   "cell_type": "code",
   "execution_count": null,
   "id": "d5573058-d0b3-4bab-a086-685989bdcc9c",
   "metadata": {},
   "outputs": [],
   "source": [
    "soil_samp_gdf.describe()"
   ]
  },
  {
   "cell_type": "code",
   "execution_count": null,
   "id": "0583670e-16ad-4ff4-82a0-812186b63e9f",
   "metadata": {},
   "outputs": [],
   "source": [
    "soil_samp_gdf.describe(include=[object])"
   ]
  },
  {
   "cell_type": "markdown",
   "id": "0e1307a2-8515-47f9-96c6-5de6445d29b9",
   "metadata": {},
   "source": [
    "#### Vizualize Point Data"
   ]
  },
  {
   "cell_type": "code",
   "execution_count": null,
   "id": "18fe32ef-c93d-46f9-8f46-6593399281c8",
   "metadata": {},
   "outputs": [],
   "source": [
    "soil_samp_gdf.plot()"
   ]
  },
  {
   "cell_type": "markdown",
   "id": "7349c31a-76e6-410d-81b8-076446faa6a2",
   "metadata": {},
   "source": [
    "**Although a simple plot can be easily produced with Python, it is rarely the final product that allows you to explore and share insights about the data. The examples below provide options to create a interactive map and on how you can better control figure aesthetics and add important functional components, such as legend.**"
   ]
  },
  {
   "cell_type": "code",
   "execution_count": null,
   "id": "70b7d534-50ae-4503-9ccd-15bb2fad9026",
   "metadata": {},
   "outputs": [],
   "source": [
    "soil_samp_gdf.explore()"
   ]
  },
  {
   "cell_type": "code",
   "execution_count": null,
   "id": "962a489d-3d7e-445e-9888-75bc76a18606",
   "metadata": {},
   "outputs": [],
   "source": [
    "soil_samp_gdf.plot(column=\"source\", legend=True, cmap=\"tab20\", figsize=(14,7))"
   ]
  },
  {
   "cell_type": "markdown",
   "id": "25095188-7fa5-4105-914c-190be1f3d276",
   "metadata": {},
   "source": [
    "**You can find more information on suported colors and colormaps in `matplotlib` by going to the following links:**\n",
    "- https://matplotlib.org/stable/tutorials/colors/colormaps.html\n",
    "- https://matplotlib.org/stable/gallery/color/named_colors.html"
   ]
  },
  {
   "cell_type": "code",
   "execution_count": null,
   "id": "51dd619e-466f-4b80-99f1-9c87b9fe5a44",
   "metadata": {},
   "outputs": [],
   "source": [
    "fig, axs = plt.subplots(1,3, figsize=(10,4), tight_layout=True)\n",
    "\n",
    "soil_samp_gdf.plot(ax=axs[0], column=\"temp_20211005\", legend=True, cmap=\"coolwarm\")\n",
    "axs[0].set_title(\"MN Soil Temperature, F\", weight=\"bold\")\n",
    "\n",
    "soil_samp_gdf.plot(ax=axs[1], column=\"temp_20211005\", legend=True, scheme=\"NaturalBreaks\", cmap=\"YlOrBr\") \n",
    "axs[1].set_title(\"MN Soil Temperature, F\", weight=\"bold\")\n",
    "\n",
    "soil_samp_gdf.plot(ax=axs[2], column=\"temp_20211005\", legend=True, scheme=\"User_Defined\", cmap=\"Spectral\", \n",
    "                   classification_kwds=dict(bins=[40,45,50,55,60]), \n",
    "                   legend_kwds={\"labels\": [\"< 40\", \"40 - 45\", \"45 - 50\", \"50 - 55\", \"55 - 60\", \"> 60\"]}) \n",
    "axs[2].set_title(\"MN Soil Temperature, F\", weight=\"bold\")\n",
    "\n",
    "plt.show()"
   ]
  },
  {
   "cell_type": "markdown",
   "id": "ca7b18db-fc37-49a3-9ff4-52c4a11266dc",
   "metadata": {
    "tags": []
   },
   "source": [
    "### **Working with Polygon Data in Python**\n",
    "\n",
    "#### Import Shapefile\n",
    "\n",
    "Our first step is to read in the `.shp` file that contains our attribute data and geometry data. For this example, we will be using the *Groundwater Provinces of Minnesota 2021* data. \n",
    "\n",
    "> The Minnesota Groundwater Provinces data summarizes aquifer and groundwater resource differences at the regional level. Some parts of the state have several groundwater resources to choose from, while other parts of the state may have only limited groundwater resources available.\n",
    "\n",
    "For today's workshop, 3 random variables have been added as fields for illustrative purposes. We read in vector data using the `geopandas` package directly."
   ]
  },
  {
   "cell_type": "code",
   "execution_count": null,
   "id": "004d5682-69f5-4e73-a78b-d00e109b68b2",
   "metadata": {},
   "outputs": [],
   "source": [
    "gw_prov_gdf = gpd.read_file(\"./data-module-1/gw_provinces_extra.shp\")"
   ]
  },
  {
   "cell_type": "markdown",
   "id": "138eb4ac-1095-40ce-969c-f8f38eb005a6",
   "metadata": {},
   "source": [
    "#### Summarize Polygon Data"
   ]
  },
  {
   "cell_type": "code",
   "execution_count": null,
   "id": "e94864a9-d529-4bd2-9b5e-5c75ebc9ecf7",
   "metadata": {},
   "outputs": [],
   "source": [
    "gw_prov_gdf.head()"
   ]
  },
  {
   "cell_type": "code",
   "execution_count": null,
   "id": "78ebb3f9-c093-4b3e-9811-db46e79219b6",
   "metadata": {},
   "outputs": [],
   "source": [
    "print (\"Extent of the data is defined by the following bounding box: \")\n",
    "gw_prov_gdf.total_bounds"
   ]
  },
  {
   "cell_type": "code",
   "execution_count": null,
   "id": "95467788-6f5d-4b1f-ab0d-5885cd684c27",
   "metadata": {},
   "outputs": [],
   "source": [
    "print (\"The following contains the information on the Coordinate Reference System: \")\n",
    "gw_prov_gdf.crs"
   ]
  },
  {
   "cell_type": "code",
   "execution_count": null,
   "id": "524efde7-45d5-4911-9da6-db59a214d2a7",
   "metadata": {},
   "outputs": [],
   "source": [
    "gw_prov_gdf.describe()"
   ]
  },
  {
   "cell_type": "code",
   "execution_count": null,
   "id": "9dafed36-5743-4e05-9176-0082853aa64f",
   "metadata": {},
   "outputs": [],
   "source": [
    "gw_prov_gdf.describe(include=[object])"
   ]
  },
  {
   "cell_type": "markdown",
   "id": "6392114f-7ac4-4f92-95b0-d50e67c6994f",
   "metadata": {},
   "source": [
    "#### Vizualize Polygon Data"
   ]
  },
  {
   "cell_type": "code",
   "execution_count": null,
   "id": "d7914aeb-dfdd-4a4f-ad7c-eb3e659e5925",
   "metadata": {},
   "outputs": [],
   "source": [
    "gw_prov_gdf.plot()"
   ]
  },
  {
   "cell_type": "code",
   "execution_count": null,
   "id": "bf39d7d0-be66-443e-a834-b62aeaf017a8",
   "metadata": {},
   "outputs": [],
   "source": [
    "gw_prov_gdf.explore()"
   ]
  },
  {
   "cell_type": "code",
   "execution_count": null,
   "id": "5c7649e3-694e-462c-8bdc-7860804bd748",
   "metadata": {},
   "outputs": [],
   "source": [
    "fig, axs = plt.subplots(1,3, figsize=(14,7), tight_layout=True)\n",
    "\n",
    "gw_prov_gdf.plot(ax=axs[0], column=\"PROVINCE\", legend=True, cmap=\"Paired\")\n",
    "axs[0].set_title(\"Groundwater Provinces of Minnesota PROVINCE\", weight=\"bold\")\n",
    "\n",
    "gw_prov_gdf.plot(ax=axs[1], column=\"var1\", legend=True, cmap=\"plasma\")\n",
    "axs[1].set_title(\"Groundwater Provinces of Minnesota var1\", weight=\"bold\")\n",
    "\n",
    "gw_prov_gdf.plot(ax=axs[2], column=\"var2\", legend=True, cmap=\"Set3\")\n",
    "axs[2].set_title(\"Groundwater Provinces of Minnesota var2\", weight=\"bold\")\n",
    "\n",
    "plt.show()"
   ]
  },
  {
   "cell_type": "code",
   "execution_count": null,
   "id": "7e5dce6f-9859-4700-9715-3c3b231481e1",
   "metadata": {},
   "outputs": [],
   "source": [
    "fig, axs = plt.subplots(1,2, figsize=(14,7), tight_layout=True)\n",
    "\n",
    "gw_prov_gdf.plot(ax=axs[0], column=\"var3\", legend=True, cmap=\"viridis_r\")\n",
    "axs[0].set_title(\"Groundwater Provinces of Minnesota var3\", weight=\"bold\")\n",
    "\n",
    "gw_prov_gdf.plot(ax=axs[1], column=\"var3\", legend=True, scheme=\"NaturalBreaks\", cmap=\"YlOrBr\")\n",
    "axs[1].set_title(\"Groundwater Provinces of Minnesota var3\", weight=\"bold\")\n",
    "\n",
    "plt.show()"
   ]
  },
  {
   "cell_type": "markdown",
   "id": "1eb9eff7-80b2-4e31-8768-977ad8dde1c0",
   "metadata": {
    "tags": []
   },
   "source": [
    "### **Working with Raster Data in Python**\n",
    "#### Import Raster Files\n",
    "\n",
    "Our first step is to read in the raster file that contains our data. For this example, we will be using the *Cropland Data Layer 2020, Minnesota* data. \n",
    "\n",
    "> The United States Department of Agriculture (USDA), National Agricultural Statistics Service (NASS) Cropland Data Layer (CDL) is a raster, geo-referenced, crop-specific land cover data layer.\n",
    "\n",
    "For today's workshop, the data has been transformed to represent 3 categories: corn (`0`), other cropland (`1`), and non cropland (`2`). We read in raster data using the `rasterio` package."
   ]
  },
  {
   "cell_type": "code",
   "execution_count": null,
   "id": "f187f6aa-e060-403e-8909-197c3a209e25",
   "metadata": {},
   "outputs": [],
   "source": [
    "cdl_dataset =  rasterio.open(\"./data-module-1/cdl3_3km.tif\")"
   ]
  },
  {
   "cell_type": "markdown",
   "id": "aab601d2-be42-457a-8971-18e851ee539f",
   "metadata": {},
   "source": [
    "#### Summarize raster dataset geoproperties"
   ]
  },
  {
   "cell_type": "code",
   "execution_count": null,
   "id": "eb42ee84-f448-459b-82a3-9c0a081ab32a",
   "metadata": {},
   "outputs": [],
   "source": [
    "print (\"Number of rows is equal to {}\".format(cdl_dataset.height))\n",
    "print (\"Number of columns is equal to {}\".format(cdl_dataset.width))\n",
    "print (\"Extent of the dataset: {}\".format(cdl_dataset.bounds))\n",
    "print (\"Coordinate Reference System: {}\".format(cdl_dataset.crs))\n",
    "print (\"NoData value: {}\".format(cdl_dataset.nodata))"
   ]
  },
  {
   "cell_type": "markdown",
   "id": "6d0d356c-af91-4cfe-8622-0c66c706c626",
   "metadata": {},
   "source": [
    "#### Summarize raster data values"
   ]
  },
  {
   "cell_type": "code",
   "execution_count": null,
   "id": "ad79e6ba-9dfb-4d13-9375-91e70465f7dd",
   "metadata": {},
   "outputs": [],
   "source": [
    "cdl_array = cdl_dataset.read(1)"
   ]
  },
  {
   "cell_type": "code",
   "execution_count": null,
   "id": "d61bfad4-7643-401a-b90c-a9fd377e8620",
   "metadata": {},
   "outputs": [],
   "source": [
    "print (\"Raster unique values are: {}\".format(np.unique(cdl_array)))"
   ]
  },
  {
   "cell_type": "code",
   "execution_count": null,
   "id": "3c6fca71-d042-42b5-95b4-1318166d4510",
   "metadata": {},
   "outputs": [],
   "source": [
    "cdl_array = cdl_array.astype(float)\n",
    "cdl_array[cdl_array==cdl_dataset.nodata] = np.nan\n",
    "print (\"Raster unique values are: {}\".format(np.unique(cdl_array)))"
   ]
  },
  {
   "cell_type": "code",
   "execution_count": null,
   "id": "24fc7515-a95c-4eb6-996e-7ea50a498b45",
   "metadata": {},
   "outputs": [],
   "source": [
    "plt.hist(cdl_array.flatten(), facecolor=\"grey\", alpha=0.75)\n",
    "plt.ylabel(\"Pixel count\")\n",
    "plt.xticks([0,1,2], labels=[\"corn\", \"other crops\", \"non cropland\"])\n",
    "\n",
    "plt.show()"
   ]
  },
  {
   "cell_type": "markdown",
   "id": "fcefadd1-0e6a-486c-a8d2-467ae0642277",
   "metadata": {},
   "source": [
    "#### Visualize raster data"
   ]
  },
  {
   "cell_type": "code",
   "execution_count": null,
   "id": "983b48e2-b816-40bc-a30d-2897e8b03520",
   "metadata": {},
   "outputs": [],
   "source": [
    "clrs = [\"khaki\", \"darkseagreen\", \"lavender\"]\n",
    "labels = [\"corn\", \"other cropland\", \"non cropland\"]\n",
    "\n",
    "cmap, norm = from_levels_and_colors([0,1,2,3], clrs)\n",
    "\n",
    "plt.imshow(cdl_array, cmap=cmap, norm=norm, interpolation=\"none\")\n",
    "\n",
    "c = [ mpatches.Patch(facecolor=clrs[i]) for i in range(len(labels))]\n",
    "plt.legend(c, labels)\n",
    "\n",
    "plt.show()"
   ]
  },
  {
   "cell_type": "markdown",
   "id": "92f85374-9568-4139-b85f-51b745b78c6b",
   "metadata": {
    "tags": []
   },
   "source": [
    "### **Layering Features**\n",
    "\n",
    "#### Display multiple spatial datasets on the same map layout\n",
    "To understand better landscape patterns, spatial distribution of features and their interactions, it is often useful to display multiple layers on the same map. To ensure that the layers align, follow these rules:\n",
    "- all layers need to be in the same coordinate system (here we choose the coordinate system of the land cover raster layer);\n",
    "- axis lables for raster data need to be updated to display a spatial extent of interest instead of the pixel counts."
   ]
  },
  {
   "cell_type": "code",
   "execution_count": null,
   "id": "f75113b3-343a-4f76-9710-41b5bacf4aa0",
   "metadata": {},
   "outputs": [],
   "source": [
    "fig, ax = plt.subplots(figsize = (14,7), tight_layout=True)\n",
    "\n",
    "# plot raster\n",
    "plot_extent = plotting_extent(cdl_array, cdl_dataset.transform)\n",
    "clrs = [\"khaki\", \"darkseagreen\", \"lavender\"]\n",
    "labels = [\"corn\", \"other cropland\", \"non cropland\"]\n",
    "cmap, norm = from_levels_and_colors([0,1,2,3], clrs)\n",
    "ax.imshow(cdl_array, cmap=cmap, norm=norm, interpolation=\"none\", extent=plot_extent)\n",
    "c = [mpatches.Patch(facecolor=clrs[i]) for i in range(len(labels))]\n",
    "leg1 = plt.legend(c, labels, bbox_to_anchor=(1.3, 1), title=\"Land Cover\")\n",
    "\n",
    "# plot vector\n",
    "new_gdf = gw_prov_gdf.to_crs(cdl_dataset.crs)\n",
    "new_gdf.plot(ax=ax, facecolor=\"none\", edgecolor=\"grey\")\n",
    "\n",
    "soil_samp_gdf.to_crs(cdl_dataset.crs).plot(ax=ax, column=\"temp_20211005\", legend=True, scheme=\"NaturalBreaks\", \n",
    "                                           cmap=\"coolwarm\",  edgecolor=\"grey\", markersize=50,\n",
    "                                           legend_kwds={\"bbox_to_anchor\":(1.38, 0.85),\n",
    "                                                        \"title\":\"Soil Temperatue, degrees F\"})\n",
    "\n",
    "plt.title(\"Minnesota Land Cover and Soil Temperature\", weight=\"bold\")\n",
    "plt.gca().add_artist(leg1)\n",
    "\n",
    "plt.show()"
   ]
  },
  {
   "cell_type": "markdown",
   "id": "7d1f3284-e56a-4e9b-b829-c5ae2d67a9fb",
   "metadata": {},
   "source": [
    "#### Export final map to a file"
   ]
  },
  {
   "cell_type": "code",
   "execution_count": null,
   "id": "da284e85-b758-4403-a336-6f199ab98fa6",
   "metadata": {},
   "outputs": [],
   "source": [
    "fig.savefig(\"./data-module-1/MN_final_map.jpg\", bbox_inches=\"tight\", dpi=150)"
   ]
  },
  {
   "cell_type": "markdown",
   "id": "edd3e197-b37e-44fa-a9c3-dd06c40c59c2",
   "metadata": {
    "tags": []
   },
   "source": [
    "### **Exercises**\n",
    "\n",
    "#### Data\n",
    "-  `ea_geo.csv` - Malawi Living Standard Measurement Survey Integrated Household Sample (LSMS-IHS) point data are available from https://microdata.worldbank.org/index.php/catalog/3818  \n",
    "- `mwi_lsms.shp` - Malawi subnational divisions can be downloaded from https://data.humdata.org/dataset/malawi-administrative-level-0-3-boundaries\n",
    "- `MWI_msk_alt.vrt` - Malawi Digital Elevation Model (DEM) is derived from NASA's Shuttle Radar Topography Mission data product. \n",
    "\n",
    "For today's workshop, the data has been downloaded, cleaned, transformed, and saved to the directory `./data-module-1/`."
   ]
  },
  {
   "cell_type": "markdown",
   "id": "4a5fbc64-af7c-4c11-afbc-0a9a494bcb9d",
   "metadata": {
    "tags": []
   },
   "source": [
    "**Question 1. Read and display the head of the `ea_geo.csv` file stored under `./data-module-1/`.**"
   ]
  },
  {
   "cell_type": "code",
   "execution_count": null,
   "id": "78069e23-5ce9-4d19-9a46-0e73c44f4069",
   "metadata": {},
   "outputs": [],
   "source": []
  },
  {
   "cell_type": "markdown",
   "id": "0f257404-0c34-4ba1-a5d4-59065807114b",
   "metadata": {
    "tags": []
   },
   "source": [
    "**Question 2. Which columns store the geographic coordinates? Transform `DataFrame` into `GeoDataFrame` by using these columns. Display the head of the `GeoDataFrame`.**"
   ]
  },
  {
   "cell_type": "code",
   "execution_count": null,
   "id": "257eb3be-4055-473b-8c53-65f190ee135a",
   "metadata": {},
   "outputs": [],
   "source": []
  },
  {
   "cell_type": "markdown",
   "id": "80d8bef4-fb0d-4312-90f3-7a26ff2f93d4",
   "metadata": {},
   "source": [
    "**Question 3. Create an interactive map to ensure that the data have been properly geocoded.**"
   ]
  },
  {
   "cell_type": "code",
   "execution_count": null,
   "id": "17026c33-463c-4d4d-adc0-70e0e9917482",
   "metadata": {},
   "outputs": [],
   "source": []
  },
  {
   "cell_type": "markdown",
   "id": "8eba85e0-5e98-4e16-bfe6-ecf375017c21",
   "metadata": {},
   "source": [
    "**Question 4. Create a static map with 2 subplots: based on columns `dist_road` and `dist_border`. Display values as continuous.**"
   ]
  },
  {
   "cell_type": "code",
   "execution_count": null,
   "id": "1d43547c-d6ef-469a-b6a9-d9e41273ba4c",
   "metadata": {},
   "outputs": [],
   "source": []
  },
  {
   "cell_type": "markdown",
   "id": "903b99d4-dd2d-4af4-b588-025de4a08c91",
   "metadata": {},
   "source": [
    "**Question 5. Read the `mwi_lsms.shp` shapefile located in the `./data-module-1/` folder. Display the first 2 records of `GeoDataFrame`.**"
   ]
  },
  {
   "cell_type": "code",
   "execution_count": null,
   "id": "94c04e6c-e4de-441b-a711-55d543a8904d",
   "metadata": {},
   "outputs": [],
   "source": []
  },
  {
   "cell_type": "markdown",
   "id": "40fe6691-e4c9-4fd1-b203-e8fc10fd94df",
   "metadata": {},
   "source": [
    "**Question 6. Explore the characteristics of the `GeoDataFrame`.**  \n",
    "- How many columns does it have?\n",
    "- How many rows does it have?\n",
    "- Calculate summary statistics of the numerical fields."
   ]
  },
  {
   "cell_type": "code",
   "execution_count": null,
   "id": "2b5cea00-111d-4bea-a0b8-baeec08e67e6",
   "metadata": {},
   "outputs": [],
   "source": []
  },
  {
   "cell_type": "markdown",
   "id": "b36b748a-7326-42f6-8e19-869d9d1841c2",
   "metadata": {},
   "source": [
    "**Question 7. Create an interactive map of the `GeoDataFrame`.**"
   ]
  },
  {
   "cell_type": "code",
   "execution_count": null,
   "id": "7631548e-84bc-4dc5-96f3-173701da77f7",
   "metadata": {},
   "outputs": [],
   "source": []
  },
  {
   "cell_type": "markdown",
   "id": "9f1600c1-dc37-4688-9b27-56cba4e022fb",
   "metadata": {},
   "source": [
    "**Question 8. Create a static map with 2 subplots: based on columns `croplnd` and `poverty`. Display values as continuous.**"
   ]
  },
  {
   "cell_type": "code",
   "execution_count": null,
   "id": "499cc6c6-8021-4d96-9e02-72177ad404b5",
   "metadata": {},
   "outputs": [],
   "source": []
  },
  {
   "cell_type": "markdown",
   "id": "ca3d79f1-186b-47cb-ab96-e89fa4d7d20d",
   "metadata": {},
   "source": [
    "**Question 9. Read the Malawi DEM raster file stored as `MWI_msk_alt.vrt`. Convert the data type to float and reset `NoData` values to `np.nan`.**"
   ]
  },
  {
   "cell_type": "code",
   "execution_count": null,
   "id": "569ae8c4-af66-490f-ac2e-cb4f574141e0",
   "metadata": {},
   "outputs": [],
   "source": []
  },
  {
   "cell_type": "markdown",
   "id": "7ea49ff4-4141-44b9-afcf-292a0392e731",
   "metadata": {},
   "source": [
    "**Question 10. Explore the characteristics of your raster.**\n",
    "- How many rows and columns does it have?\n",
    "- What is the spatial extent of the dataset?\n",
    "- What is the coordinate reference system?\n",
    "- Plot a histogram to display the distribution of values."
   ]
  },
  {
   "cell_type": "code",
   "execution_count": null,
   "id": "ff87bb6c-6fc0-4826-a6a6-972be253a324",
   "metadata": {},
   "outputs": [],
   "source": []
  },
  {
   "cell_type": "markdown",
   "id": "0b6f6ee5-7e54-4df9-b9fd-d2c8ca90b93c",
   "metadata": {},
   "source": [
    "**Question 11. Plot Malawi DEM array. Use `terrain` as a `cmap` option.**"
   ]
  },
  {
   "cell_type": "code",
   "execution_count": null,
   "id": "12a8b10b-0468-4c6e-9198-e7364d46a6f6",
   "metadata": {},
   "outputs": [],
   "source": []
  },
  {
   "cell_type": "markdown",
   "id": "0898af71-faff-4860-b632-3f4d587b8438",
   "metadata": {},
   "source": [
    "**Question 12. Display multiple features on the same map:**\n",
    "- add Malawi DEM (use the coorditate system from this dataset as a reference for others), use `terrain` as `cmap` option;\n",
    "- add Malawi district boundaries (polygon), display only the edges with `grey` color;\n",
    "- add Malawi LSMS points, display `dist_agmrkt` column, include the legend."
   ]
  },
  {
   "cell_type": "code",
   "execution_count": null,
   "id": "339bb393-ed3f-41e2-8822-8c7b0d637f21",
   "metadata": {},
   "outputs": [],
   "source": []
  }
 ],
 "metadata": {
  "kernelspec": {
   "display_name": "Python 3 (ipykernel)",
   "language": "python",
   "name": "python3"
  },
  "language_info": {
   "codemirror_mode": {
    "name": "ipython",
    "version": 3
   },
   "file_extension": ".py",
   "mimetype": "text/x-python",
   "name": "python",
   "nbconvert_exporter": "python",
   "pygments_lexer": "ipython3",
   "version": "3.11.5"
  }
 },
 "nbformat": 4,
 "nbformat_minor": 5
}
